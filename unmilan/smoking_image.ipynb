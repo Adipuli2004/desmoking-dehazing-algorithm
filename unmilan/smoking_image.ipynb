{
 "cells": [
  {
   "cell_type": "code",
   "execution_count": 1,
   "id": "1f935ad0-1b27-4907-9b93-50e3c8deff07",
   "metadata": {
    "tags": []
   },
   "outputs": [],
   "source": [
    "import cv2\n",
    "import matplotlib.pyplot as plt\n",
    "%matplotlib inline"
   ]
  },
  {
   "cell_type": "code",
   "execution_count": 2,
   "id": "36da3633-e05b-4f43-837f-ffd5818cb69d",
   "metadata": {
    "tags": []
   },
   "outputs": [],
   "source": [
    "import os\n",
    "import random as rm\n",
    "path = 'archive/images/images/travel_and _adventure'\n",
    "imges = os.listdir(path)"
   ]
  },
  {
   "cell_type": "code",
   "execution_count": 3,
   "id": "edb2559a-8b2f-41ea-ada0-d68b901254df",
   "metadata": {
    "tags": []
   },
   "outputs": [],
   "source": [
    "smoke = cv2.imread('istockphoto-991548580-612x612.jpg')\n",
    "smoke = cv2.cvtColor(smoke, cv2.COLOR_BGR2RGB)"
   ]
  },
  {
   "cell_type": "code",
   "execution_count": 14,
   "id": "1a713397-ecb2-4061-ada7-4b2b98b44921",
   "metadata": {
    "tags": []
   },
   "outputs": [],
   "source": [
    "for i in range(8000):\n",
    "    img = cv2.imread('archive/images/images/travel_and _adventure/'+ imges[i])\n",
    "    img = cv2.cvtColor(img, cv2.COLOR_BGR2RGB)\n",
    "    a = img.shape[1]\n",
    "    b = img.shape[0]\n",
    "    smoke = cv2.resize(smoke,(a,b))\n",
    "    mask = cv2.cvtColor(smoke, cv2.COLOR_RGB2GRAY)\n",
    "    a = rm.random()\n",
    "    b = rm.random()\n",
    "    if b < 0.5:\n",
    "        b = 0.5\n",
    "    if a < 0.7:\n",
    "        a = 0.7\n",
    "    if a <= b:\n",
    "        a,b=b,a\n",
    "    smoked = cv2.addWeighted(img,a,smoke,b,0)\n",
    "    smoked = cv2.cvtColor(smoked,cv2.COLOR_RGB2BGR)\n",
    "    cv2.imwrite('Smoked/'+imges[i],smoked)"
   ]
  },
  {
   "cell_type": "code",
   "execution_count": null,
   "id": "a6dd933c-6a21-454e-aac9-63a12aef25bf",
   "metadata": {},
   "outputs": [],
   "source": []
  }
 ],
 "metadata": {
  "kernelspec": {
   "display_name": "Python 3 (ipykernel)",
   "language": "python",
   "name": "python3"
  },
  "language_info": {
   "codemirror_mode": {
    "name": "ipython",
    "version": 3
   },
   "file_extension": ".py",
   "mimetype": "text/x-python",
   "name": "python",
   "nbconvert_exporter": "python",
   "pygments_lexer": "ipython3",
   "version": "3.11.5"
  }
 },
 "nbformat": 4,
 "nbformat_minor": 5
}
